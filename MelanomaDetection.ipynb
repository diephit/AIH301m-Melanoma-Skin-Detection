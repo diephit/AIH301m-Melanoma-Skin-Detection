{
  "cells": [
    {
      "cell_type": "code",
      "execution_count": 6,
      "metadata": {
        "id": "NPy7Mz_G8ngo"
      },
      "outputs": [],
      "source": [
        "import pandas as pd\n",
        "import numpy as np\n",
        "import tensorflow as tf\n",
        "from tensorflow.keras.preprocessing.image import ImageDataGenerator\n",
        "from sklearn.model_selection import train_test_split\n",
        "from tensorflow.keras import layers, models"
      ]
    },
    {
      "cell_type": "code",
      "execution_count": 7,
      "metadata": {
        "id": "T1JzSlRd9c3i"
      },
      "outputs": [],
      "source": [
        "df = pd.read_csv('./data/HAM10000_metadata.csv')\n",
        "dataset_path = './data'\n"
      ]
    },
    {
      "cell_type": "code",
      "execution_count": null,
      "metadata": {},
      "outputs": [],
      "source": []
    },
    {
      "cell_type": "code",
      "execution_count": 8,
      "metadata": {},
      "outputs": [],
      "source": [
        "df['image_id'] = df['image_id'].astype(str) + '.jpg'"
      ]
    },
    {
      "cell_type": "code",
      "execution_count": null,
      "metadata": {},
      "outputs": [],
      "source": [
        "df"
      ]
    },
    {
      "cell_type": "code",
      "execution_count": 9,
      "metadata": {},
      "outputs": [
        {
          "data": {
            "application/vnd.microsoft.datawrangler.viewer.v0+json": {
              "columns": [
                {
                  "name": "index",
                  "rawType": "int64",
                  "type": "integer"
                },
                {
                  "name": "image_id",
                  "rawType": "object",
                  "type": "string"
                },
                {
                  "name": "labels",
                  "rawType": "object",
                  "type": "string"
                }
              ],
              "ref": "5ebfbe62-889a-49ac-9d85-bdaa1316a91f",
              "rows": [
                [
                  "0",
                  "ISIC_0027419.jpg",
                  "0"
                ],
                [
                  "1",
                  "ISIC_0025030.jpg",
                  "0"
                ],
                [
                  "2",
                  "ISIC_0026769.jpg",
                  "0"
                ],
                [
                  "3",
                  "ISIC_0025661.jpg",
                  "0"
                ],
                [
                  "4",
                  "ISIC_0031633.jpg",
                  "0"
                ],
                [
                  "5",
                  "ISIC_0027850.jpg",
                  "0"
                ],
                [
                  "6",
                  "ISIC_0029176.jpg",
                  "0"
                ],
                [
                  "7",
                  "ISIC_0029068.jpg",
                  "0"
                ],
                [
                  "8",
                  "ISIC_0025837.jpg",
                  "0"
                ],
                [
                  "9",
                  "ISIC_0025209.jpg",
                  "0"
                ],
                [
                  "10",
                  "ISIC_0025276.jpg",
                  "0"
                ],
                [
                  "11",
                  "ISIC_0029396.jpg",
                  "0"
                ],
                [
                  "12",
                  "ISIC_0025984.jpg",
                  "0"
                ],
                [
                  "13",
                  "ISIC_0025767.jpg",
                  "0"
                ],
                [
                  "14",
                  "ISIC_0032417.jpg",
                  "0"
                ],
                [
                  "15",
                  "ISIC_0031326.jpg",
                  "0"
                ],
                [
                  "16",
                  "ISIC_0025915.jpg",
                  "0"
                ],
                [
                  "17",
                  "ISIC_0031029.jpg",
                  "0"
                ],
                [
                  "18",
                  "ISIC_0029836.jpg",
                  "0"
                ],
                [
                  "19",
                  "ISIC_0032129.jpg",
                  "0"
                ],
                [
                  "20",
                  "ISIC_0032343.jpg",
                  "0"
                ],
                [
                  "21",
                  "ISIC_0025033.jpg",
                  "0"
                ],
                [
                  "22",
                  "ISIC_0027310.jpg",
                  "0"
                ],
                [
                  "23",
                  "ISIC_0032128.jpg",
                  "0"
                ],
                [
                  "24",
                  "ISIC_0025937.jpg",
                  "0"
                ],
                [
                  "25",
                  "ISIC_0027828.jpg",
                  "0"
                ],
                [
                  "26",
                  "ISIC_0029291.jpg",
                  "0"
                ],
                [
                  "27",
                  "ISIC_0030698.jpg",
                  "0"
                ],
                [
                  "28",
                  "ISIC_0025567.jpg",
                  "0"
                ],
                [
                  "29",
                  "ISIC_0031753.jpg",
                  "0"
                ],
                [
                  "30",
                  "ISIC_0026835.jpg",
                  "0"
                ],
                [
                  "31",
                  "ISIC_0031159.jpg",
                  "0"
                ],
                [
                  "32",
                  "ISIC_0031017.jpg",
                  "0"
                ],
                [
                  "33",
                  "ISIC_0024981.jpg",
                  "0"
                ],
                [
                  "34",
                  "ISIC_0027815.jpg",
                  "0"
                ],
                [
                  "35",
                  "ISIC_0024324.jpg",
                  "0"
                ],
                [
                  "36",
                  "ISIC_0029559.jpg",
                  "0"
                ],
                [
                  "37",
                  "ISIC_0030661.jpg",
                  "0"
                ],
                [
                  "38",
                  "ISIC_0027053.jpg",
                  "0"
                ],
                [
                  "39",
                  "ISIC_0028560.jpg",
                  "0"
                ],
                [
                  "40",
                  "ISIC_0031650.jpg",
                  "0"
                ],
                [
                  "41",
                  "ISIC_0029161.jpg",
                  "0"
                ],
                [
                  "42",
                  "ISIC_0026273.jpg",
                  "0"
                ],
                [
                  "43",
                  "ISIC_0025076.jpg",
                  "0"
                ],
                [
                  "44",
                  "ISIC_0029687.jpg",
                  "0"
                ],
                [
                  "45",
                  "ISIC_0025642.jpg",
                  "0"
                ],
                [
                  "46",
                  "ISIC_0025819.jpg",
                  "0"
                ],
                [
                  "47",
                  "ISIC_0032013.jpg",
                  "0"
                ],
                [
                  "48",
                  "ISIC_0031691.jpg",
                  "0"
                ],
                [
                  "49",
                  "ISIC_0025419.jpg",
                  "0"
                ]
              ],
              "shape": {
                "columns": 2,
                "rows": 10015
              }
            },
            "text/html": [
              "<div>\n",
              "<style scoped>\n",
              "    .dataframe tbody tr th:only-of-type {\n",
              "        vertical-align: middle;\n",
              "    }\n",
              "\n",
              "    .dataframe tbody tr th {\n",
              "        vertical-align: top;\n",
              "    }\n",
              "\n",
              "    .dataframe thead th {\n",
              "        text-align: right;\n",
              "    }\n",
              "</style>\n",
              "<table border=\"1\" class=\"dataframe\">\n",
              "  <thead>\n",
              "    <tr style=\"text-align: right;\">\n",
              "      <th></th>\n",
              "      <th>image_id</th>\n",
              "      <th>labels</th>\n",
              "    </tr>\n",
              "  </thead>\n",
              "  <tbody>\n",
              "    <tr>\n",
              "      <th>0</th>\n",
              "      <td>ISIC_0027419.jpg</td>\n",
              "      <td>0</td>\n",
              "    </tr>\n",
              "    <tr>\n",
              "      <th>1</th>\n",
              "      <td>ISIC_0025030.jpg</td>\n",
              "      <td>0</td>\n",
              "    </tr>\n",
              "    <tr>\n",
              "      <th>2</th>\n",
              "      <td>ISIC_0026769.jpg</td>\n",
              "      <td>0</td>\n",
              "    </tr>\n",
              "    <tr>\n",
              "      <th>3</th>\n",
              "      <td>ISIC_0025661.jpg</td>\n",
              "      <td>0</td>\n",
              "    </tr>\n",
              "    <tr>\n",
              "      <th>4</th>\n",
              "      <td>ISIC_0031633.jpg</td>\n",
              "      <td>0</td>\n",
              "    </tr>\n",
              "    <tr>\n",
              "      <th>...</th>\n",
              "      <td>...</td>\n",
              "      <td>...</td>\n",
              "    </tr>\n",
              "    <tr>\n",
              "      <th>10010</th>\n",
              "      <td>ISIC_0033084.jpg</td>\n",
              "      <td>0</td>\n",
              "    </tr>\n",
              "    <tr>\n",
              "      <th>10011</th>\n",
              "      <td>ISIC_0033550.jpg</td>\n",
              "      <td>0</td>\n",
              "    </tr>\n",
              "    <tr>\n",
              "      <th>10012</th>\n",
              "      <td>ISIC_0033536.jpg</td>\n",
              "      <td>0</td>\n",
              "    </tr>\n",
              "    <tr>\n",
              "      <th>10013</th>\n",
              "      <td>ISIC_0032854.jpg</td>\n",
              "      <td>0</td>\n",
              "    </tr>\n",
              "    <tr>\n",
              "      <th>10014</th>\n",
              "      <td>ISIC_0032258.jpg</td>\n",
              "      <td>1</td>\n",
              "    </tr>\n",
              "  </tbody>\n",
              "</table>\n",
              "<p>10015 rows × 2 columns</p>\n",
              "</div>"
            ],
            "text/plain": [
              "               image_id labels\n",
              "0      ISIC_0027419.jpg      0\n",
              "1      ISIC_0025030.jpg      0\n",
              "2      ISIC_0026769.jpg      0\n",
              "3      ISIC_0025661.jpg      0\n",
              "4      ISIC_0031633.jpg      0\n",
              "...                 ...    ...\n",
              "10010  ISIC_0033084.jpg      0\n",
              "10011  ISIC_0033550.jpg      0\n",
              "10012  ISIC_0033536.jpg      0\n",
              "10013  ISIC_0032854.jpg      0\n",
              "10014  ISIC_0032258.jpg      1\n",
              "\n",
              "[10015 rows x 2 columns]"
            ]
          },
          "execution_count": 9,
          "metadata": {},
          "output_type": "execute_result"
        }
      ],
      "source": [
        "# tạo nhãn label nhị phân\n",
        "\n",
        "df['labels'] = df['dx'].apply(lambda x: '1' if x == 'mel' else '0')\n",
        "df[['image_id', 'labels']]"
      ]
    },
    {
      "cell_type": "code",
      "execution_count": 46,
      "metadata": {},
      "outputs": [],
      "source": [
        "\n",
        "# # chia dataset thành 3 phân train val test 80 10 10\n",
        "# train_df, test_df = train_test_split(df, stratify=df['labels'], test_size=0.2, random_state=42)\n",
        "# val_df, test_df = train_test_split(test_df, stratify=df['labels'], test_size=0.5, random_state=42)"
      ]
    },
    {
      "cell_type": "code",
      "execution_count": 10,
      "metadata": {
        "colab": {
          "base_uri": "https://localhost:8080/"
        },
        "id": "e7gWGe9YCig8",
        "outputId": "11740042-fc91-474f-8119-a07a7d08b32c"
      },
      "outputs": [
        {
          "name": "stdout",
          "output_type": "stream",
          "text": [
            "Found 8012 validated image filenames belonging to 2 classes.\n",
            "Found 2003 validated image filenames belonging to 2 classes.\n"
          ]
        }
      ],
      "source": [
        "# Data augmentation and preprocessing\n",
        "\n",
        "from tensorflow.keras.preprocessing.image import ImageDataGenerator\n",
        "\n",
        "img_size = (224, 224)\n",
        "datagen = ImageDataGenerator(\n",
        "    rescale=1./255,  # normalize giá trị pixel\n",
        "    rotation_range=20,  # xoay ảnh\n",
        "    horizontal_flip=True,  # lật ảnh\n",
        "    zoom_range=0.2,  # phóng to ảnh\n",
        "    width_shift_range=0.2, # dịch trái phải\n",
        "    height_shift_range=0.2,  # dịch lên xuống\n",
        "    fill_mode='nearest',  # fill pixel\n",
        "    validation_split=0.2  # chia 80 20\n",
        ")\n",
        "train_data = datagen.flow_from_dataframe(\n",
        "    df,\n",
        "    directory =dataset_path,\n",
        "    x_col='image_id',\n",
        "    y_col='labels',\n",
        "    target_size = img_size,\n",
        "    batch_size=32,\n",
        "    shuffle= True,\n",
        "    class_mode = 'binary',\n",
        "    subset = 'training'\n",
        ")\n",
        "\n",
        "val_data = datagen.flow_from_dataframe(\n",
        "    df,\n",
        "    directory=dataset_path,\n",
        "    x_col='image_id',\n",
        "    y_col='labels',\n",
        "    target_size=img_size,\n",
        "    batch_size=32,\n",
        "    shuffle=False,\n",
        "    class_mode='binary',\n",
        "    subset = 'validation'\n",
        ")\n"
      ]
    },
    {
      "cell_type": "code",
      "execution_count": 48,
      "metadata": {},
      "outputs": [
        {
          "name": "stdout",
          "output_type": "stream",
          "text": [
            "Class weights: {0: np.float64(0.5625140417883622), 1: np.float64(4.499101527403414)}\n"
          ]
        }
      ],
      "source": [
        "from sklearn.utils.class_weight import compute_class_weight\n",
        "labels = df['labels'].values\n",
        "class_weights = compute_class_weight(\n",
        "    class_weight=\"balanced\",\n",
        "    classes=np.unique(labels),\n",
        "    y=labels\n",
        ")\n",
        "class_weights_dict = dict(enumerate(class_weights))\n",
        "class_weights_dict = {i: class_weights_dict[i] for i in range(len(class_weights_dict))}\n",
        "print(\"Class weights:\", class_weights_dict)"
      ]
    },
    {
      "cell_type": "code",
      "execution_count": 3,
      "metadata": {},
      "outputs": [],
      "source": [
        "from tensorflow.keras.applications import EfficientNetV2B0, ResNet50, VGG16, MobileNetV2\n",
        "\n",
        "models_to_build = {\n",
        "    'EfficientNetV2B0': EfficientNetV2B0,\n",
        "    'ResNet50': ResNet50,\n",
        "    'VGG16': VGG16,\n",
        "    'MobileNetV2': MobileNetV2\n",
        "}"
      ]
    },
    {
      "cell_type": "code",
      "execution_count": null,
      "metadata": {
        "colab": {
          "base_uri": "https://localhost:8080/",
          "height": 305
        },
        "id": "NGjpo7lRDUN5",
        "outputId": "a26c6f59-a3c2-4381-daed-b9f3211588a7"
      },
      "outputs": [],
      "source": [
        "def build_model(model_name, input=(224, 224, 3)):\n",
        "    if model_name not in models_to_build:\n",
        "        raise ValueError(f\"Model {model_name} is not supported. Choose from {list(models_to_build.keys())}.\")\n",
        "    \n",
        "    base_model = models_to_build[model_name](input_shape=input, include_top=False, weights='imagenet')\n",
        "    base_model.trainable = False  # Freeze the base model for fine-tuning\n",
        "    \n",
        "    model = models.Sequential([\n",
        "        base_model,\n",
        "        layers.GlobalAveragePooling2D(),\n",
        "        layers.Dense(128, activation='relu'),\n",
        "        layers.Dropout(0.3),\n",
        "        layers.Dense(64, activation='relu'),\n",
        "        layers.Dropout(0.3),\n",
        "        layers.Dense(1, activation='sigmoid')  # Assuming 2 classes for melanoma detection\n",
        "    ])\n",
        "    \n",
        "    model.compile(optimizer='adam', loss='binary_crossentropy', metrics=['accuracy', tf.keras.metrics.AUC(), tf.keras.metrics.Precision(), tf.keras.metrics.Recall()])\n",
        "    return model"
      ]
    },
    {
      "cell_type": "code",
      "execution_count": null,
      "metadata": {},
      "outputs": [
        {
          "name": "stdout",
          "output_type": "stream",
          "text": [
            "dang build model: EfficientNetV2B0\n"
          ]
        },
        {
          "name": "stderr",
          "output_type": "stream",
          "text": [
            "c:\\Users\\mquan\\AppData\\Local\\Programs\\Python\\Python312\\Lib\\site-packages\\keras\\src\\trainers\\data_adapters\\py_dataset_adapter.py:121: UserWarning: Your `PyDataset` class should call `super().__init__(**kwargs)` in its constructor. `**kwargs` can include `workers`, `use_multiprocessing`, `max_queue_size`. Do not pass these arguments to `fit()`, as they will be ignored.\n",
            "  self._warn_if_super_not_called()\n"
          ]
        },
        {
          "name": "stdout",
          "output_type": "stream",
          "text": [
            "Epoch 1/50\n",
            "\u001b[1m251/251\u001b[0m \u001b[32m━━━━━━━━━━━━━━━━━━━━\u001b[0m\u001b[37m\u001b[0m \u001b[1m381s\u001b[0m 1s/step - accuracy: 0.9246 - auc_2: 0.4992 - loss: 0.4488 - precision_2: 0.0573 - recall_2: 0.0474 - val_accuracy: 0.6046 - val_auc_2: 0.5000 - val_loss: 0.6946 - val_precision_2: 0.0000e+00 - val_recall_2: 0.0000e+00\n",
            "Epoch 2/50\n",
            "\u001b[1m251/251\u001b[0m \u001b[32m━━━━━━━━━━━━━━━━━━━━\u001b[0m\u001b[37m\u001b[0m \u001b[1m358s\u001b[0m 1s/step - accuracy: 0.9608 - auc_2: 0.4825 - loss: 0.4171 - precision_2: 0.0000e+00 - recall_2: 0.0000e+00 - val_accuracy: 0.6046 - val_auc_2: 0.5498 - val_loss: 0.6786 - val_precision_2: 0.0000e+00 - val_recall_2: 0.0000e+00\n",
            "Epoch 3/50\n",
            "\u001b[1m251/251\u001b[0m \u001b[32m━━━━━━━━━━━━━━━━━━━━\u001b[0m\u001b[37m\u001b[0m \u001b[1m365s\u001b[0m 1s/step - accuracy: 0.9565 - auc_2: 0.5060 - loss: 0.4330 - precision_2: 0.0000e+00 - recall_2: 0.0000e+00 - val_accuracy: 0.6046 - val_auc_2: 0.5000 - val_loss: 0.6975 - val_precision_2: 0.0000e+00 - val_recall_2: 0.0000e+00\n",
            "Epoch 4/50\n",
            "\u001b[1m251/251\u001b[0m \u001b[32m━━━━━━━━━━━━━━━━━━━━\u001b[0m\u001b[37m\u001b[0m \u001b[1m362s\u001b[0m 1s/step - accuracy: 0.9646 - auc_2: 0.4832 - loss: 0.3845 - precision_2: 0.0000e+00 - recall_2: 0.0000e+00 - val_accuracy: 0.6046 - val_auc_2: 0.5000 - val_loss: 0.6980 - val_precision_2: 0.0000e+00 - val_recall_2: 0.0000e+00\n",
            "Epoch 5/50\n",
            "\u001b[1m251/251\u001b[0m \u001b[32m━━━━━━━━━━━━━━━━━━━━\u001b[0m\u001b[37m\u001b[0m \u001b[1m381s\u001b[0m 2s/step - accuracy: 0.9645 - auc_2: 0.4642 - loss: 0.3894 - precision_2: 0.0000e+00 - recall_2: 0.0000e+00 - val_accuracy: 0.6046 - val_auc_2: 0.5000 - val_loss: 0.6863 - val_precision_2: 0.0000e+00 - val_recall_2: 0.0000e+00\n",
            "Epoch 6/50\n",
            "\u001b[1m251/251\u001b[0m \u001b[32m━━━━━━━━━━━━━━━━━━━━\u001b[0m\u001b[37m\u001b[0m \u001b[1m379s\u001b[0m 2s/step - accuracy: 0.9630 - auc_2: 0.4771 - loss: 0.3973 - precision_2: 0.0000e+00 - recall_2: 0.0000e+00 - val_accuracy: 0.6046 - val_auc_2: 0.4996 - val_loss: 0.6838 - val_precision_2: 0.0000e+00 - val_recall_2: 0.0000e+00\n",
            "Epoch 7/50\n",
            "\u001b[1m251/251\u001b[0m \u001b[32m━━━━━━━━━━━━━━━━━━━━\u001b[0m\u001b[37m\u001b[0m \u001b[1m362s\u001b[0m 1s/step - accuracy: 0.9625 - auc_2: 0.5160 - loss: 0.3952 - precision_2: 0.0000e+00 - recall_2: 0.0000e+00 - val_accuracy: 0.6046 - val_auc_2: 0.5000 - val_loss: 0.6924 - val_precision_2: 0.0000e+00 - val_recall_2: 0.0000e+00\n"
          ]
        },
        {
          "name": "stderr",
          "output_type": "stream",
          "text": [
            "WARNING:absl:You are saving your model as an HDF5 file via `model.save()` or `keras.saving.save_model(model)`. This file format is considered legacy. We recommend using instead the native Keras format, e.g. `model.save('my_model.keras')` or `keras.saving.save_model(model, 'my_model.keras')`. \n"
          ]
        },
        {
          "name": "stdout",
          "output_type": "stream",
          "text": [
            "dang build model: ResNet50\n",
            "Epoch 1/50\n",
            "\u001b[1m251/251\u001b[0m \u001b[32m━━━━━━━━━━━━━━━━━━━━\u001b[0m\u001b[37m\u001b[0m \u001b[1m856s\u001b[0m 3s/step - accuracy: 0.9186 - auc_3: 0.5240 - loss: 0.4258 - precision_3: 0.0561 - recall_3: 0.0721 - val_accuracy: 0.6046 - val_auc_3: 0.5760 - val_loss: 0.7039 - val_precision_3: 0.0000e+00 - val_recall_3: 0.0000e+00\n",
            "Epoch 2/50\n",
            "\u001b[1m251/251\u001b[0m \u001b[32m━━━━━━━━━━━━━━━━━━━━\u001b[0m\u001b[37m\u001b[0m \u001b[1m802s\u001b[0m 3s/step - accuracy: 0.9587 - auc_3: 0.5429 - loss: 0.4050 - precision_3: 0.1267 - recall_3: 0.0076 - val_accuracy: 0.6046 - val_auc_3: 0.4996 - val_loss: 0.7358 - val_precision_3: 0.0000e+00 - val_recall_3: 0.0000e+00\n",
            "Epoch 3/50\n",
            "\u001b[1m251/251\u001b[0m \u001b[32m━━━━━━━━━━━━━━━━━━━━\u001b[0m\u001b[37m\u001b[0m \u001b[1m800s\u001b[0m 3s/step - accuracy: 0.9622 - auc_3: 0.4495 - loss: 0.4147 - precision_3: 0.0000e+00 - recall_3: 0.0000e+00 - val_accuracy: 0.6046 - val_auc_3: 0.5391 - val_loss: 0.6828 - val_precision_3: 0.0000e+00 - val_recall_3: 0.0000e+00\n",
            "Epoch 4/50\n",
            "\u001b[1m251/251\u001b[0m \u001b[32m━━━━━━━━━━━━━━━━━━━━\u001b[0m\u001b[37m\u001b[0m \u001b[1m798s\u001b[0m 3s/step - accuracy: 0.9612 - auc_3: 0.4791 - loss: 0.4080 - precision_3: 0.0000e+00 - recall_3: 0.0000e+00 - val_accuracy: 0.6046 - val_auc_3: 0.6224 - val_loss: 0.6911 - val_precision_3: 0.0000e+00 - val_recall_3: 0.0000e+00\n",
            "Epoch 5/50\n",
            "\u001b[1m251/251\u001b[0m \u001b[32m━━━━━━━━━━━━━━━━━━━━\u001b[0m\u001b[37m\u001b[0m \u001b[1m799s\u001b[0m 3s/step - accuracy: 0.9594 - auc_3: 0.5127 - loss: 0.4140 - precision_3: 0.0000e+00 - recall_3: 0.0000e+00 - val_accuracy: 0.6046 - val_auc_3: 0.5614 - val_loss: 0.6866 - val_precision_3: 0.0000e+00 - val_recall_3: 0.0000e+00\n",
            "Epoch 6/50\n",
            "\u001b[1m251/251\u001b[0m \u001b[32m━━━━━━━━━━━━━━━━━━━━\u001b[0m\u001b[37m\u001b[0m \u001b[1m799s\u001b[0m 3s/step - accuracy: 0.9615 - auc_3: 0.5231 - loss: 0.4007 - precision_3: 0.0000e+00 - recall_3: 0.0000e+00 - val_accuracy: 0.6046 - val_auc_3: 0.6445 - val_loss: 0.6891 - val_precision_3: 0.0000e+00 - val_recall_3: 0.0000e+00\n",
            "Epoch 7/50\n",
            "\u001b[1m251/251\u001b[0m \u001b[32m━━━━━━━━━━━━━━━━━━━━\u001b[0m\u001b[37m\u001b[0m \u001b[1m799s\u001b[0m 3s/step - accuracy: 0.9614 - auc_3: 0.5358 - loss: 0.3984 - precision_3: 0.0000e+00 - recall_3: 0.0000e+00 - val_accuracy: 0.6046 - val_auc_3: 0.6525 - val_loss: 0.6961 - val_precision_3: 0.0000e+00 - val_recall_3: 0.0000e+00\n",
            "Epoch 8/50\n",
            "\u001b[1m251/251\u001b[0m \u001b[32m━━━━━━━━━━━━━━━━━━━━\u001b[0m\u001b[37m\u001b[0m \u001b[1m807s\u001b[0m 3s/step - accuracy: 0.9624 - auc_3: 0.5107 - loss: 0.3951 - precision_3: 0.0000e+00 - recall_3: 0.0000e+00 - val_accuracy: 0.6046 - val_auc_3: 0.6537 - val_loss: 0.6863 - val_precision_3: 0.0000e+00 - val_recall_3: 0.0000e+00\n"
          ]
        },
        {
          "name": "stderr",
          "output_type": "stream",
          "text": [
            "WARNING:absl:You are saving your model as an HDF5 file via `model.save()` or `keras.saving.save_model(model)`. This file format is considered legacy. We recommend using instead the native Keras format, e.g. `model.save('my_model.keras')` or `keras.saving.save_model(model, 'my_model.keras')`. \n"
          ]
        },
        {
          "name": "stdout",
          "output_type": "stream",
          "text": [
            "dang build model: VGG16\n",
            "Epoch 1/50\n",
            "\u001b[1m251/251\u001b[0m \u001b[32m━━━━━━━━━━━━━━━━━━━━\u001b[0m\u001b[37m\u001b[0m \u001b[1m2591s\u001b[0m 10s/step - accuracy: 0.9061 - auc_4: 0.5674 - loss: 0.4005 - precision_4: 0.0504 - recall_4: 0.0779 - val_accuracy: 0.5951 - val_auc_4: 0.6209 - val_loss: 0.6595 - val_precision_4: 0.4767 - val_recall_4: 0.2449\n",
            "Epoch 2/50\n",
            "\u001b[1m251/251\u001b[0m \u001b[32m━━━━━━━━━━━━━━━━━━━━\u001b[0m\u001b[37m\u001b[0m \u001b[1m2567s\u001b[0m 10s/step - accuracy: 0.9252 - auc_4: 0.8111 - loss: 0.3059 - precision_4: 0.2036 - recall_4: 0.3400 - val_accuracy: 0.5926 - val_auc_4: 0.6164 - val_loss: 0.6924 - val_precision_4: 0.4841 - val_recall_4: 0.4609\n",
            "Epoch 3/50\n",
            "\u001b[1m251/251\u001b[0m \u001b[32m━━━━━━━━━━━━━━━━━━━━\u001b[0m\u001b[37m\u001b[0m \u001b[1m2586s\u001b[0m 10s/step - accuracy: 0.8842 - auc_4: 0.8361 - loss: 0.2962 - precision_4: 0.1621 - recall_4: 0.4689 - val_accuracy: 0.5881 - val_auc_4: 0.6191 - val_loss: 0.6943 - val_precision_4: 0.4810 - val_recall_4: 0.5278\n",
            "Epoch 4/50\n",
            "\u001b[1m251/251\u001b[0m \u001b[32m━━━━━━━━━━━━━━━━━━━━\u001b[0m\u001b[37m\u001b[0m \u001b[1m2601s\u001b[0m 10s/step - accuracy: 0.8892 - auc_4: 0.8450 - loss: 0.2846 - precision_4: 0.1876 - recall_4: 0.5638 - val_accuracy: 0.5746 - val_auc_4: 0.6070 - val_loss: 0.7210 - val_precision_4: 0.4631 - val_recall_4: 0.4760\n",
            "Epoch 5/50\n",
            "\u001b[1m251/251\u001b[0m \u001b[32m━━━━━━━━━━━━━━━━━━━━\u001b[0m\u001b[37m\u001b[0m \u001b[1m2624s\u001b[0m 10s/step - accuracy: 0.8799 - auc_4: 0.8441 - loss: 0.2910 - precision_4: 0.1626 - recall_4: 0.4921 - val_accuracy: 0.5836 - val_auc_4: 0.5923 - val_loss: 0.7345 - val_precision_4: 0.4712 - val_recall_4: 0.4343\n",
            "Epoch 6/50\n",
            "\u001b[1m251/251\u001b[0m \u001b[32m━━━━━━━━━━━━━━━━━━━━\u001b[0m\u001b[37m\u001b[0m \u001b[1m2606s\u001b[0m 10s/step - accuracy: 0.8703 - auc_4: 0.8540 - loss: 0.2916 - precision_4: 0.1820 - recall_4: 0.6171 - val_accuracy: 0.5891 - val_auc_4: 0.6066 - val_loss: 0.8358 - val_precision_4: 0.4674 - val_recall_4: 0.2803\n"
          ]
        },
        {
          "name": "stderr",
          "output_type": "stream",
          "text": [
            "WARNING:absl:You are saving your model as an HDF5 file via `model.save()` or `keras.saving.save_model(model)`. This file format is considered legacy. We recommend using instead the native Keras format, e.g. `model.save('my_model.keras')` or `keras.saving.save_model(model, 'my_model.keras')`. \n"
          ]
        },
        {
          "name": "stdout",
          "output_type": "stream",
          "text": [
            "dang build model: MobileNetV2\n",
            "Epoch 1/50\n",
            "\u001b[1m251/251\u001b[0m \u001b[32m━━━━━━━━━━━━━━━━━━━━\u001b[0m\u001b[37m\u001b[0m \u001b[1m283s\u001b[0m 1s/step - accuracy: 0.8773 - auc_5: 0.7149 - loss: 0.3937 - precision_5: 0.1292 - recall_5: 0.3307 - val_accuracy: 0.5532 - val_auc_5: 0.5352 - val_loss: 0.8538 - val_precision_5: 0.4246 - val_recall_5: 0.3662\n",
            "Epoch 2/50\n",
            "\u001b[1m251/251\u001b[0m \u001b[32m━━━━━━━━━━━━━━━━━━━━\u001b[0m\u001b[37m\u001b[0m \u001b[1m272s\u001b[0m 1s/step - accuracy: 0.8858 - auc_5: 0.8571 - loss: 0.2880 - precision_5: 0.1886 - recall_5: 0.5465 - val_accuracy: 0.5771 - val_auc_5: 0.5343 - val_loss: 1.0864 - val_precision_5: 0.3721 - val_recall_5: 0.1010\n",
            "Epoch 3/50\n",
            "\u001b[1m251/251\u001b[0m \u001b[32m━━━━━━━━━━━━━━━━━━━━\u001b[0m\u001b[37m\u001b[0m \u001b[1m272s\u001b[0m 1s/step - accuracy: 0.8840 - auc_5: 0.8586 - loss: 0.2939 - precision_5: 0.1961 - recall_5: 0.5347 - val_accuracy: 0.5512 - val_auc_5: 0.5356 - val_loss: 1.0339 - val_precision_5: 0.4066 - val_recall_5: 0.2942\n",
            "Epoch 4/50\n",
            "\u001b[1m251/251\u001b[0m \u001b[32m━━━━━━━━━━━━━━━━━━━━\u001b[0m\u001b[37m\u001b[0m \u001b[1m277s\u001b[0m 1s/step - accuracy: 0.8819 - auc_5: 0.8614 - loss: 0.2844 - precision_5: 0.1745 - recall_5: 0.5211 - val_accuracy: 0.5607 - val_auc_5: 0.5073 - val_loss: 1.0157 - val_precision_5: 0.3967 - val_recall_5: 0.2134\n",
            "Epoch 5/50\n",
            "\u001b[1m251/251\u001b[0m \u001b[32m━━━━━━━━━━━━━━━━━━━━\u001b[0m\u001b[37m\u001b[0m \u001b[1m276s\u001b[0m 1s/step - accuracy: 0.8989 - auc_5: 0.8803 - loss: 0.2666 - precision_5: 0.2233 - recall_5: 0.6099 - val_accuracy: 0.5881 - val_auc_5: 0.5477 - val_loss: 1.3298 - val_precision_5: 0.4240 - val_recall_5: 0.1162\n",
            "Epoch 6/50\n",
            "\u001b[1m251/251\u001b[0m \u001b[32m━━━━━━━━━━━━━━━━━━━━\u001b[0m\u001b[37m\u001b[0m \u001b[1m271s\u001b[0m 1s/step - accuracy: 0.8973 - auc_5: 0.8880 - loss: 0.2543 - precision_5: 0.2184 - recall_5: 0.6024 - val_accuracy: 0.5517 - val_auc_5: 0.5360 - val_loss: 1.0021 - val_precision_5: 0.4151 - val_recall_5: 0.3270\n"
          ]
        },
        {
          "name": "stderr",
          "output_type": "stream",
          "text": [
            "WARNING:absl:You are saving your model as an HDF5 file via `model.save()` or `keras.saving.save_model(model)`. This file format is considered legacy. We recommend using instead the native Keras format, e.g. `model.save('my_model.keras')` or `keras.saving.save_model(model, 'my_model.keras')`. \n"
          ]
        }
      ],
      "source": [
        "from tensorflow.keras.callbacks import EarlyStopping\n",
        "early_stopping = EarlyStopping(\n",
        "    monitor='val_loss',\n",
        "    patience=5,\n",
        "    restore_best_weights=True\n",
        ")\n",
        "\n",
        "result = {}\n",
        "for model_name in models_to_build.keys():\n",
        "    print(f\"dang build model: {model_name}\")\n",
        "    model = build_model(model_name)\n",
        "    \n",
        "    # Train the model\n",
        "    history = model.fit(\n",
        "        train_data,\n",
        "        validation_data=val_data,\n",
        "        epochs=50,\n",
        "        batch_size=32,\n",
        "        callbacks=[early_stopping],\n",
        "        class_weight=class_weights_dict,\n",
        "        verbose=1\n",
        "    )\n",
        "    val_acc = history.history['val_accuracy'][-1]\n",
        "    result[model_name] = val_acc,\n",
        "    # Save the model\n",
        "    model.save(f'{model_name}_melanoma_detection.h5')"
      ]
    },
    {
      "cell_type": "code",
      "execution_count": 12,
      "metadata": {
        "colab": {
          "base_uri": "https://localhost:8080/"
        },
        "id": "rJ8SITcqtOlE",
        "outputId": "483e5aae-95c3-49ac-81b2-0313f177cf32"
      },
      "outputs": [
        {
          "name": "stderr",
          "output_type": "stream",
          "text": [
            "WARNING:absl:Compiled the loaded model, but the compiled metrics have yet to be built. `model.compile_metrics` will be empty until you train or evaluate the model.\n"
          ]
        },
        {
          "name": "stdout",
          "output_type": "stream",
          "text": [
            "Model EfficientNetV2B0 loaded successfully.\n",
            "\u001b[1m63/63\u001b[0m \u001b[32m━━━━━━━━━━━━━━━━━━━━\u001b[0m\u001b[37m\u001b[0m \u001b[1m75s\u001b[0m 1s/step - accuracy: 0.8991 - auc_2: 0.2309 - loss: 0.4788 - precision_2: 0.0000e+00 - recall_2: 0.0000e+00\n",
            "Validation Loss: 0.6785898804664612, Validation Accuracy: 0.6045930981636047, AUC: 0.545998215675354, Precision: 0.0, Recall: 0.0\n"
          ]
        },
        {
          "name": "stderr",
          "output_type": "stream",
          "text": [
            "WARNING:absl:Compiled the loaded model, but the compiled metrics have yet to be built. `model.compile_metrics` will be empty until you train or evaluate the model.\n"
          ]
        },
        {
          "name": "stdout",
          "output_type": "stream",
          "text": [
            "Model ResNet50 loaded successfully.\n",
            "\u001b[1m63/63\u001b[0m \u001b[32m━━━━━━━━━━━━━━━━━━━━\u001b[0m\u001b[37m\u001b[0m \u001b[1m180s\u001b[0m 3s/step - accuracy: 0.8991 - auc_3: 0.2360 - loss: 0.4608 - precision_3: 0.0000e+00 - recall_3: 0.0000e+00\n",
            "Validation Loss: 0.6827502250671387, Validation Accuracy: 0.6045930981636047, AUC: 0.5475497841835022, Precision: 0.0, Recall: 0.0\n"
          ]
        },
        {
          "name": "stderr",
          "output_type": "stream",
          "text": [
            "WARNING:absl:Compiled the loaded model, but the compiled metrics have yet to be built. `model.compile_metrics` will be empty until you train or evaluate the model.\n"
          ]
        },
        {
          "name": "stdout",
          "output_type": "stream",
          "text": [
            "Model VGG16 loaded successfully.\n",
            "\u001b[1m63/63\u001b[0m \u001b[32m━━━━━━━━━━━━━━━━━━━━\u001b[0m\u001b[37m\u001b[0m \u001b[1m604s\u001b[0m 10s/step - accuracy: 0.7521 - auc_4: 0.2423 - loss: 0.4990 - precision_4: 0.1103 - recall_4: 0.0793\n",
            "Validation Loss: 0.6563206315040588, Validation Accuracy: 0.5926110744476318, AUC: 0.626731276512146, Precision: 0.4695431590080261, Recall: 0.23358586430549622\n"
          ]
        },
        {
          "name": "stderr",
          "output_type": "stream",
          "text": [
            "WARNING:absl:Compiled the loaded model, but the compiled metrics have yet to be built. `model.compile_metrics` will be empty until you train or evaluate the model.\n"
          ]
        },
        {
          "name": "stdout",
          "output_type": "stream",
          "text": [
            "Model MobileNetV2 loaded successfully.\n",
            "\u001b[1m63/63\u001b[0m \u001b[32m━━━━━━━━━━━━━━━━━━━━\u001b[0m\u001b[37m\u001b[0m \u001b[1m68s\u001b[0m 1s/step - accuracy: 0.6466 - auc_5: 0.2098 - loss: 0.6492 - precision_5: 0.0986 - recall_5: 0.1210\n",
            "Validation Loss: 0.8564184308052063, Validation Accuracy: 0.5526710152626038, AUC: 0.5341811180114746, Precision: 0.4197530746459961, Recall: 0.34343433380126953\n"
          ]
        }
      ],
      "source": [
        "from tensorflow.keras.models import load_model\n",
        "valloss = {}\n",
        "valacc = {}\n",
        "valprecision = {}\n",
        "valrecall = {}\n",
        "for i in models_to_build.keys():\n",
        "    model = load_model(f'{i}_melanoma_detection.h5')\n",
        "    print(f\"Model {i} loaded successfully.\")\n",
        "    # Evaluate the model on validation data\n",
        "    val_loss, val_acc, val_auc, val_precision, val_recall = model.evaluate(val_data)\n",
        "    valloss[i] = val_loss\n",
        "    valacc[i] = val_acc\n",
        "    valprecision[i] = val_precision\n",
        "    valrecall[i] = val_recall\n",
        "    print(f\"Validation Loss: {val_loss}, Validation Accuracy: {val_acc}, AUC: {val_auc}, Precision: {val_precision}, Recall: {val_recall}\")"
      ]
    },
    {
      "cell_type": "code",
      "execution_count": 16,
      "metadata": {},
      "outputs": [
        {
          "data": {
            "text/plain": [
              "<Figure size 2000x2000 with 0 Axes>"
            ]
          },
          "metadata": {},
          "output_type": "display_data"
        },
        {
          "data": {
            "image/png": "[encoded data removed]",
            "text/plain": [
              "<Figure size 1200x800 with 4 Axes>"
            ]
          },
          "metadata": {},
          "output_type": "display_data"
        }
      ],
      "source": [
        "import matplotlib.pyplot as plt\n",
        "plt.figure(figsize=(20, 20))\n",
        "\n",
        "x = np.arange(4)\n",
        "width = 0.6\n",
        "\n",
        "fig, axs = plt.subplots(2, 2, figsize=(12, 8))\n",
        "fig.suptitle('Best Performance Comparison of 4 Models', fontsize=16)\n",
        "\n",
        "# Accuracy\n",
        "axs[0, 0].bar(x, valacc.values(), width, color='skyblue')\n",
        "axs[0, 0].set_title('Best Validation Accuracy')\n",
        "axs[0, 0].set_xticks(x)\n",
        "axs[0, 0].set_xticklabels(valacc.keys())\n",
        "axs[0, 0].set_ylim(0, 1)\n",
        "\n",
        "# Loss\n",
        "axs[0, 1].bar(x, valloss.values(), width, color='salmon')\n",
        "axs[0, 1].set_title('Best Validation Loss (Lower is Better)')\n",
        "axs[0, 1].set_xticks(x)\n",
        "axs[0, 1].set_xticklabels(valloss.keys())\n",
        "axs[0, 1].invert_yaxis()  # Optional: makes \"lower is better\" more visible\n",
        "\n",
        "# Precision\n",
        "axs[1, 0].bar(x, valprecision.values(), width, color='lightgreen')\n",
        "axs[1, 0].set_title('Best Precision')\n",
        "axs[1, 0].set_xticks(x)\n",
        "axs[1, 0].set_xticklabels(valprecision.keys())\n",
        "axs[1, 0].set_ylim(0, 1)\n",
        "\n",
        "# Recall\n",
        "axs[1, 1].bar(x, valrecall.values(), width, color='orange')\n",
        "axs[1, 1].set_title('Best Recall')\n",
        "axs[1, 1].set_xticks(x)\n",
        "axs[1, 1].set_xticklabels(valrecall.keys())\n",
        "axs[1, 1].set_ylim(0, 1)\n",
        "\n",
        "plt.tight_layout(rect=[0, 0, 1, 0.95])\n",
        "plt.show()"
      ]
    },
    {
      "cell_type": "code",
      "execution_count": 17,
      "metadata": {},
      "outputs": [
        {
          "data": {
            "image/png": "[encoded data removed]",
            "text/plain": [
              "<Figure size 1000x500 with 1 Axes>"
            ]
          },
          "metadata": {},
          "output_type": "display_data"
        }
      ],
      "source": [
        "def f1_score(precision, recall):\n",
        "    if precision + recall == 0:\n",
        "        return 0.0  # tránh chia cho 0\n",
        "    return 2 * (precision * recall) / (precision + recall)\n",
        "f1_scores = {model: f1_score(valprecision[model], valrecall[model]) for model in valprecision.keys()}\n",
        "plt.figure(figsize=(10, 5))\n",
        "plt.bar(f1_scores.keys(), f1_scores.values(), color='purple')\n",
        "plt.title('F1 Score of Each Model')\n",
        "plt.xlabel('Models')\n",
        "plt.ylabel('F1 Score')\n",
        "plt.show()\n"
      ]
    }
  ],
  "metadata": {
    "accelerator": "TPU",
    "colab": {
      "gpuType": "V28",
      "provenance": []
    },
    "kernelspec": {
      "display_name": "Python 3",
      "name": "python3"
    },
    "language_info": {
      "codemirror_mode": {
        "name": "ipython",
        "version": 3
      },
      "file_extension": ".py",
      "mimetype": "text/x-python",
      "name": "python",
      "nbconvert_exporter": "python",
      "pygments_lexer": "ipython3",
      "version": "3.12.10"
    }
  },
  "nbformat": 4,
  "nbformat_minor": 0
}
